{
 "cells": [
  {
   "cell_type": "code",
   "execution_count": 3,
   "id": "836ebbaf",
   "metadata": {},
   "outputs": [
    {
     "name": "stderr",
     "output_type": "stream",
     "text": [
      "/Users/na7as/anaconda3/lib/python3.7/site-packages/ipykernel_launcher.py:6: FutureWarning: In a future version of pandas all arguments of DataFrame.drop except for the argument 'labels' will be keyword-only\n",
      "  \n"
     ]
    },
    {
     "name": "stdout",
     "output_type": "stream",
     "text": [
      "[0.62787904 0.32662525 0.02995065 0.00975684 0.00322117]\n"
     ]
    },
    {
     "data": {
      "image/png": "[encoded data removed]",
      "text/plain": [
       "<Figure size 432x288 with 1 Axes>"
      ]
     },
     "metadata": {
      "needs_background": "light"
     },
     "output_type": "display_data"
    }
   ],
   "source": [
    "import pandas as pd\n",
    "import numpy as np\n",
    "from sklearn.decomposition import PCA\n",
    "import matplotlib.pyplot as plt\n",
    "df=pd.read_csv('diabetics.csv') #dataframe\n",
    "X=df.drop('outcome',1)\n",
    "y=df['outcome']\n",
    "\n",
    "\n",
    "pca = PCA(n_components=5)\n",
    "principalComponents = pca.fit_transform(X)\n",
    "principalDf = pd.DataFrame(data = principalComponents\n",
    "           , columns = ['A', 'B','C','D','E'])\n",
    "finalDf = pd.concat([principalDf,y], axis = 1)\n",
    "\n",
    "\n",
    "\n",
    "finalDf.to_csv(\"pcadata.csv\",index = False, header=True)\n",
    "exvar= pca.explained_variance_ratio_\n",
    "cexvarsum = np.cumsum(exvar)\n",
    "print(exvar)\n",
    "plt.bar(range(0,len(exvar)), exvar, label='Individual explained variance')\n",
    "plt.step(range(0,len(cexvarsum)), cexvarsum ,label='Cumulative explained variance')\n",
    "plt.ylabel('Explained variance ratio')\n",
    "plt.xlabel('Principal component index')\n",
    "plt.legend(loc='lower right')\n",
    "\n",
    "plt.show()\n",
    "\n"
   ]
  },
  {
   "cell_type": "code",
   "execution_count": 4,
   "id": "937202ef",
   "metadata": {},
   "outputs": [
    {
     "name": "stdout",
     "output_type": "stream",
     "text": [
      "[[128  38]\n",
      " [ 59 121]]\n",
      "accuracy  0.7196531791907514\n",
      "precision  0.7610062893081762\n",
      "recall   0.6722222222222223\n",
      "f1-measure   0.7138643067846608\n"
     ]
    },
    {
     "name": "stderr",
     "output_type": "stream",
     "text": [
      "/Users/na7as/anaconda3/lib/python3.7/site-packages/ipykernel_launcher.py:2: FutureWarning: In a future version of pandas all arguments of DataFrame.drop except for the argument 'labels' will be keyword-only\n",
      "  \n"
     ]
    }
   ],
   "source": [
    "data=pd.read_csv('pcadata.csv')\n",
    "X=data.drop('outcome',1)\n",
    "y=data['outcome']\n",
    "from sklearn.model_selection import train_test_split\n",
    "x_train,x_test,y_train,y_test = train_test_split(X,y,test_size=0.3)\n",
    "\n",
    "from sklearn.ensemble import RandomForestClassifier\n",
    "rf = RandomForestClassifier(n_estimators = 10)\n",
    "rf.fit(x_train, y_train)\n",
    "\n",
    "#prediction \n",
    "predictions = rf.predict(x_test)\n",
    "\n",
    "#compare prediction with y_test\n",
    "#confusion matrix\n",
    "from sklearn.metrics import confusion_matrix\n",
    "matrix = confusion_matrix(y_test, predictions)\n",
    "print(matrix)\n",
    "\n",
    "#               PREDICTED\n",
    "#         tn.                  fp\n",
    "#ACTUAL        \n",
    "#         fn                   tp\n",
    "\n",
    "#accuracy score\n",
    "from sklearn.metrics import accuracy_score\n",
    "acc=accuracy_score(y_test,predictions)\n",
    "print(\"accuracy \", acc)\n",
    "\n",
    "#precision\n",
    "from sklearn.metrics import precision_score\n",
    "pre=precision_score(y_test,predictions)\n",
    "print(\"precision \", pre)\n",
    "\n",
    "#recall \n",
    "from sklearn.metrics import recall_score\n",
    "rec=recall_score(y_test,predictions)\n",
    "print(\"recall  \",rec )\n",
    "\n",
    "#f1-measure\n",
    "from sklearn.metrics import f1_score\n",
    "f1=f1_score(y_test,predictions)\n",
    "print(\"f1-measure  \",f1 )"
   ]
  },
  {
   "cell_type": "code",
   "execution_count": null,
   "id": "f8695df1",
   "metadata": {},
   "outputs": [],
   "source": []
  }
 ],
 "metadata": {
  "kernelspec": {
   "display_name": "Python 3 (ipykernel)",
   "language": "python",
   "name": "python3"
  },
  "language_info": {
   "codemirror_mode": {
    "name": "ipython",
    "version": 3
   },
   "file_extension": ".py",
   "mimetype": "text/x-python",
   "name": "python",
   "nbconvert_exporter": "python",
   "pygments_lexer": "ipython3",
   "version": "3.7.11"
  }
 },
 "nbformat": 4,
 "nbformat_minor": 5
}
