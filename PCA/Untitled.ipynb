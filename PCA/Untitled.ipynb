{
 "cells": [
  {
   "cell_type": "code",
   "execution_count": 2,
   "id": "836ebbaf",
   "metadata": {},
   "outputs": [
    {
     "ename": "ModuleNotFoundError",
     "evalue": "No module named 'pandas'",
     "output_type": "error",
     "traceback": [
      "\u001b[1;31m---------------------------------------------------------------------------\u001b[0m",
      "\u001b[1;31mModuleNotFoundError\u001b[0m                       Traceback (most recent call last)",
      "\u001b[1;32md:\\AB-second-term\\ML\\Section\\PCA\\Untitled.ipynb Cell 1'\u001b[0m in \u001b[0;36m<cell line: 1>\u001b[1;34m()\u001b[0m\n\u001b[1;32m----> <a href='vscode-notebook-cell:/d%3A/AB-second-term/ML/Section/PCA/Untitled.ipynb#ch0000000?line=0'>1</a>\u001b[0m \u001b[39mimport\u001b[39;00m \u001b[39mpandas\u001b[39;00m \u001b[39mas\u001b[39;00m \u001b[39mpd\u001b[39;00m\n\u001b[0;32m      <a href='vscode-notebook-cell:/d%3A/AB-second-term/ML/Section/PCA/Untitled.ipynb#ch0000000?line=1'>2</a>\u001b[0m \u001b[39mimport\u001b[39;00m \u001b[39mnumpy\u001b[39;00m \u001b[39mas\u001b[39;00m \u001b[39mnp\u001b[39;00m\n\u001b[0;32m      <a href='vscode-notebook-cell:/d%3A/AB-second-term/ML/Section/PCA/Untitled.ipynb#ch0000000?line=2'>3</a>\u001b[0m \u001b[39mfrom\u001b[39;00m \u001b[39msklearn\u001b[39;00m\u001b[39m.\u001b[39;00m\u001b[39mdecomposition\u001b[39;00m \u001b[39mimport\u001b[39;00m PCA\n",
      "\u001b[1;31mModuleNotFoundError\u001b[0m: No module named 'pandas'"
     ]
    }
   ],
   "source": [
    "import pandas as pd\n",
    "import numpy as np\n",
    "from sklearn.decomposition import PCA\n",
    "import matplotlib.pyplot as plt\n",
    "df=pd.read_csv('diabetics.csv') #dataframe\n",
    "X=df.drop('outcome',1)\n",
    "y=df['outcome']\n",
    "\n",
    "\n",
    "pca = PCA(n_components=5)\n",
    "principalComponents = pca.fit_transform(X)\n",
    "principalDf = pd.DataFrame(data = principalComponents\n",
    "           , columns = ['A', 'B','C','D','E'])\n",
    "finalDf = pd.concat([principalDf,y], axis = 1)\n",
    "\n",
    "\n",
    "\n",
    "finalDf.to_csv(\"pcadata.csv\",index = False, header=True)\n",
    "exvar= pca.explained_variance_ratio_\n",
    "cexvarsum = np.cumsum(exvar)\n",
    "print(exvar)\n",
    "plt.bar(range(0,len(exvar)), exvar, label='Individual explained variance')\n",
    "plt.step(range(0,len(cexvarsum)), cexvarsum ,label='Cumulative explained variance')\n",
    "plt.ylabel('Explained variance ratio')\n",
    "plt.xlabel('Principal component index')\n",
    "plt.legend(loc='lower right')\n",
    "\n",
    "plt.show()\n",
    "\n"
   ]
  },
  {
   "cell_type": "code",
   "execution_count": 4,
   "id": "937202ef",
   "metadata": {},
   "outputs": [
    {
     "name": "stdout",
     "output_type": "stream",
     "text": [
      "[[128  38]\n",
      " [ 59 121]]\n",
      "accuracy  0.7196531791907514\n",
      "precision  0.7610062893081762\n",
      "recall   0.6722222222222223\n",
      "f1-measure   0.7138643067846608\n"
     ]
    },
    {
     "name": "stderr",
     "output_type": "stream",
     "text": [
      "/Users/na7as/anaconda3/lib/python3.7/site-packages/ipykernel_launcher.py:2: FutureWarning: In a future version of pandas all arguments of DataFrame.drop except for the argument 'labels' will be keyword-only\n",
      "  \n"
     ]
    }
   ],
   "source": [
    "data=pd.read_csv('pcadata.csv')\n",
    "X=data.drop('outcome',1)\n",
    "y=data['outcome']\n",
    "from sklearn.model_selection import train_test_split\n",
    "x_train,x_test,y_train,y_test = train_test_split(X,y,test_size=0.3)\n",
    "\n",
    "from sklearn.ensemble import RandomForestClassifier\n",
    "rf = RandomForestClassifier(n_estimators = 10)\n",
    "rf.fit(x_train, y_train)\n",
    "\n",
    "#prediction \n",
    "predictions = rf.predict(x_test)\n",
    "\n",
    "#compare prediction with y_test\n",
    "#confusion matrix\n",
    "from sklearn.metrics import confusion_matrix\n",
    "matrix = confusion_matrix(y_test, predictions)\n",
    "print(matrix)\n",
    "\n",
    "#               PREDICTED\n",
    "#         tn.                  fp\n",
    "#ACTUAL        \n",
    "#         fn                   tp\n",
    "\n",
    "#accuracy score\n",
    "from sklearn.metrics import accuracy_score\n",
    "acc=accuracy_score(y_test,predictions)\n",
    "print(\"accuracy \", acc)\n",
    "\n",
    "#precision\n",
    "from sklearn.metrics import precision_score\n",
    "pre=precision_score(y_test,predictions)\n",
    "print(\"precision \", pre)\n",
    "\n",
    "#recall \n",
    "from sklearn.metrics import recall_score\n",
    "rec=recall_score(y_test,predictions)\n",
    "print(\"recall  \",rec )\n",
    "\n",
    "#f1-measure\n",
    "from sklearn.metrics import f1_score\n",
    "f1=f1_score(y_test,predictions)\n",
    "print(\"f1-measure  \",f1 )"
   ]
  },
  {
   "cell_type": "code",
   "execution_count": null,
   "id": "f8695df1",
   "metadata": {},
   "outputs": [],
   "source": []
  }
 ],
 "metadata": {
  "interpreter": {
   "hash": "d1909a9e0ea0e3fb2175b258813bdb5794a312f0e680600b10aca57d0f1f1bd1"
  },
  "kernelspec": {
   "display_name": "Python 3.10.1 64-bit",
   "language": "python",
   "name": "python3"
  },
  "language_info": {
   "codemirror_mode": {
    "name": "ipython",
    "version": 3
   },
   "file_extension": ".py",
   "mimetype": "text/x-python",
   "name": "python",
   "nbconvert_exporter": "python",
   "pygments_lexer": "ipython3",
   "version": "3.10.1"
  }
 },
 "nbformat": 4,
 "nbformat_minor": 5
}
